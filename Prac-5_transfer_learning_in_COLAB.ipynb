{
  "nbformat": 4,
  "nbformat_minor": 0,
  "metadata": {
    "kernelspec": {
      "display_name": "Python 3",
      "language": "python",
      "name": "python3"
    },
    "language_info": {
      "codemirror_mode": {
        "name": "ipython",
        "version": 3
      },
      "file_extension": ".py",
      "mimetype": "text/x-python",
      "name": "python",
      "nbconvert_exporter": "python",
      "pygments_lexer": "ipython3",
      "version": "3.8.5"
    },
    "colab": {
      "name": "Prac-5_transfer learning_COLAB.ipynb",
      "provenance": [],
      "toc_visible": true
    },
    "accelerator": "GPU"
  },
  "cells": [
    {
      "cell_type": "markdown",
      "metadata": {
        "id": "GRxR3hAoObO6"
      },
      "source": [
        "## Name : Tirth Hihoriya\n",
        "## Roll no : 18bce244\n",
        "## Prac- 5 : CIFAR10_Transfer_learning"
      ]
    },
    {
      "cell_type": "code",
      "metadata": {
        "id": "eVpXV1njObO_"
      },
      "source": [
        "import tensorflow\n",
        "from tensorflow import keras\n",
        "import cv2\n",
        "import numpy as np\n",
        "from keras.applications.xception import Xception, preprocess_input\n",
        "from keras.layers import Dense, MaxPool2D, Conv2D, Dropout, Flatten, GlobalAveragePooling2D\n",
        "from keras.models import Sequential\n",
        "from keras.utils import np_utils\n",
        "from keras.datasets import cifar10"
      ],
      "execution_count": 2,
      "outputs": []
    },
    {
      "cell_type": "code",
      "metadata": {
        "colab": {
          "base_uri": "https://localhost:8080/"
        },
        "id": "oEY5fl9PObPA",
        "outputId": "8d38b38a-e355-472b-c7b4-04cea7c41bb9"
      },
      "source": [
        "(X_train, y_train), (X_test,y_test) = cifar10.load_data()\n",
        "print(\"X_train -> \",X_train.shape)\n",
        "print(\"y_train -> \",y_train.shape)\n",
        "print(\"X_test  -> \",X_test.shape)\n",
        "print(\"y_test  -> \",y_test.shape)"
      ],
      "execution_count": 3,
      "outputs": [
        {
          "output_type": "stream",
          "text": [
            "X_train ->  (50000, 32, 32, 3)\n",
            "y_train ->  (50000, 1)\n",
            "X_test  ->  (10000, 32, 32, 3)\n",
            "y_test  ->  (10000, 1)\n"
          ],
          "name": "stdout"
        }
      ]
    },
    {
      "cell_type": "code",
      "metadata": {
        "colab": {
          "base_uri": "https://localhost:8080/"
        },
        "id": "98IyYy6rRyWW",
        "outputId": "5d848a11-d445-468d-d759-063650dfac19"
      },
      "source": [
        "X_train  =X_train[:10000]\r\n",
        "y_train  =X_train[:10000]\r\n",
        "X_test   =X_test[:2000]\r\n",
        "y_test   =y_test[:2000]\r\n",
        "print(\"X_train -> \",X_train.shape)\r\n",
        "print(\"y_train -> \",y_train.shape)\r\n",
        "print(\"X_test  -> \",X_test.shape)\r\n",
        "print(\"y_test  -> \",y_test.shape)"
      ],
      "execution_count": 4,
      "outputs": [
        {
          "output_type": "stream",
          "text": [
            "X_train ->  (10000, 32, 32, 3)\n",
            "y_train ->  (10000, 32, 32, 3)\n",
            "X_test  ->  (2000, 32, 32, 3)\n",
            "y_test  ->  (2000, 1)\n"
          ],
          "name": "stdout"
        }
      ]
    },
    {
      "cell_type": "markdown",
      "metadata": {
        "id": "qQq87qjfObPB"
      },
      "source": [
        "### One hot encoding"
      ]
    },
    {
      "cell_type": "code",
      "metadata": {
        "id": "E59vtJXcObPB"
      },
      "source": [
        "from keras.utils import to_categorical\n",
        "\n",
        "y_train_one_hot = to_categorical(y_train)\n",
        "y_test_one_hot = to_categorical(y_test)"
      ],
      "execution_count": null,
      "outputs": []
    },
    {
      "cell_type": "code",
      "metadata": {
        "id": "vITBr9l9ObPC"
      },
      "source": [
        "print(y_train_one_hot.shape)\n",
        "print(y_test_one_hot.shape)"
      ],
      "execution_count": null,
      "outputs": []
    },
    {
      "cell_type": "code",
      "metadata": {
        "id": "tUFu9zDbObPC"
      },
      "source": [
        "total_classes = y_train_one_hot.shape[1]\n",
        "total_classes"
      ],
      "execution_count": null,
      "outputs": []
    },
    {
      "cell_type": "markdown",
      "metadata": {
        "id": "x5BuYhhYObPC"
      },
      "source": [
        "## Resize for Xception"
      ]
    },
    {
      "cell_type": "code",
      "metadata": {
        "id": "xui4TTgkObPD"
      },
      "source": [
        "X_train_ = np.array([cv2.resize(X_train[i], dsize=(72,72), interpolation=cv2.INTER_CUBIC) for i in range(len(X_train))]).astype('float16')\n",
        "X_test_ = np.array([cv2.resize(X_test[i], dsize=(72,72), interpolation=cv2.INTER_CUBIC) for i in range(len(X_test))]).astype('float16')\n",
        "print(X_train_.shape)\n",
        "print(X_test_.shape)"
      ],
      "execution_count": null,
      "outputs": []
    },
    {
      "cell_type": "code",
      "metadata": {
        "id": "xZDhJrfOObPD"
      },
      "source": [
        ""
      ],
      "execution_count": null,
      "outputs": []
    },
    {
      "cell_type": "code",
      "metadata": {
        "id": "YWhn7Y1EObPD"
      },
      "source": [
        "X_train_ = preprocess_input(X_train_)\n",
        "X_test_ = preprocess_input(X_test_)\n",
        "print(X_train_.shape)\n",
        "print(X_test_.shape)"
      ],
      "execution_count": null,
      "outputs": []
    },
    {
      "cell_type": "code",
      "metadata": {
        "id": "XC9TnQ2EObPE"
      },
      "source": [
        ""
      ],
      "execution_count": null,
      "outputs": []
    },
    {
      "cell_type": "code",
      "metadata": {
        "id": "9fH4UD-YObPE"
      },
      "source": [
        "model_pretrained = Xception(include_top=False, weights='imagenet', input_tensor=None, input_shape=(72,72,3), pooling=None)"
      ],
      "execution_count": null,
      "outputs": []
    },
    {
      "cell_type": "code",
      "metadata": {
        "id": "_1ukfGmjObPE"
      },
      "source": [
        "model_pretrained.summary()"
      ],
      "execution_count": null,
      "outputs": []
    },
    {
      "cell_type": "code",
      "metadata": {
        "id": "XAcM3DwPObPF"
      },
      "source": [
        "X_train_ = model_pretrained.predict(X_train_)\n",
        "X_test_ = model_pretrained.predict(X_test_)\n",
        "print(X_train_.shape)\n",
        "print(X_test_.shape)"
      ],
      "execution_count": null,
      "outputs": []
    },
    {
      "cell_type": "code",
      "metadata": {
        "id": "OeYBSuG0ObPF"
      },
      "source": [
        ""
      ],
      "execution_count": null,
      "outputs": []
    },
    {
      "cell_type": "markdown",
      "metadata": {
        "id": "lEcdpoT0ObPF"
      },
      "source": [
        "## Classifier on top"
      ]
    },
    {
      "cell_type": "code",
      "metadata": {
        "id": "VIzlC2qsObPF"
      },
      "source": [
        "model = Sequential()\n",
        "model.add(GlobalAveragePooling2D(input_shape=(7,7,2048)))\n",
        "model.add(Dropout(0.3))\n",
        "model.add(Dense(10, activation= 'softmax'))\n",
        "model.summary()"
      ],
      "execution_count": null,
      "outputs": []
    },
    {
      "cell_type": "code",
      "metadata": {
        "id": "KFMUqJadObPG"
      },
      "source": [
        "model.compile(loss='categorical_crossentropy', optimizer='adam', metrics=['accuracy'])"
      ],
      "execution_count": null,
      "outputs": []
    },
    {
      "cell_type": "code",
      "metadata": {
        "id": "qigFZGtzObPG"
      },
      "source": [
        "model.fit(X_train_, y_train_one_hot, validation_data=(X_test_, y_test_one_hot), batch_size=32, epochs=3, verbose=1)"
      ],
      "execution_count": null,
      "outputs": []
    },
    {
      "cell_type": "code",
      "metadata": {
        "id": "Ezc4pLwOObPG"
      },
      "source": [
        "scores = model.evaluate(x=X_test_, y=y_test_one_hot, verbose=1)\n",
        "print(model.metrics_names)\n",
        "print(\"Test Loss :\", scores[0])\n",
        "print(\"Baseline Error:\", round((100-scores[1]*100),2),'%')"
      ],
      "execution_count": null,
      "outputs": []
    },
    {
      "cell_type": "code",
      "metadata": {
        "id": "hasRcCzPO6i9"
      },
      "source": [
        ""
      ],
      "execution_count": null,
      "outputs": []
    }
  ]
}